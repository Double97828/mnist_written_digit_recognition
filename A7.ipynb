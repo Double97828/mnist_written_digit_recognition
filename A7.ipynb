{
 "cells": [
  {
   "cell_type": "code",
   "execution_count": 27,
   "metadata": {},
   "outputs": [],
   "source": [
    "import torch\n",
    "import torchvision\n",
    "from torchvision import datasets, transforms\n",
    "import torch.nn as nn\n",
    "import torch.nn.functional as F\n",
    "import torch.optim as optim\n",
    "import matplotlib.pyplot as plt\n",
    "import math\n",
    "test_size = 6000"
   ]
  },
  {
   "cell_type": "code",
   "execution_count": 28,
   "metadata": {},
   "outputs": [],
   "source": [
    "transform = transforms.Compose([transforms.Resize((32,32)),transforms.ToTensor()])\n",
    "train_set = torchvision.datasets.MNIST(root = './data',\n",
    "                                       train=True,\n",
    "                                       transform=transform,\n",
    "                                       download= True)\n",
    "train_set = torch.utils.data.Subset(train_set,range(0,test_size ))\n",
    "train_loader = torch.utils.data.DataLoader(train_set, batch_size=64, shuffle=True)\n",
    "\n",
    "test_set = torchvision.datasets.MNIST(root = './data',\n",
    "                                       train=False,\n",
    "                                       transform=transform,\n",
    "                                       download= True)\n",
    "test_set = torch.utils.data.Subset(test_set,range(0,test_size ))\n",
    "test_loader = torch.utils.data.DataLoader(test_set, batch_size=64, shuffle=False)"
   ]
  },
  {
   "cell_type": "code",
   "execution_count": 29,
   "metadata": {},
   "outputs": [],
   "source": [
    "class VGG11(nn.Module):\n",
    "\n",
    "    def __init__(self):\n",
    "        super(VGG11, self).__init__()\n",
    "        self.conv1 = nn.Conv2d(  1,  64, 3, 1, 1)\n",
    "        self.batch1 = nn.BatchNorm2d(64)\n",
    "        \n",
    "        self.conv2 = nn.Conv2d( 64, 128, 3, 1, 1)\n",
    "        self.batch2 = nn.BatchNorm2d(128)\n",
    "        \n",
    "        self.conv3 = nn.Conv2d(128, 256, 3, 1, 1)\n",
    "        self.batch3 = nn.BatchNorm2d(256)\n",
    "        \n",
    "        self.conv4 = nn.Conv2d(256, 256, 3, 1, 1)\n",
    "        self.batch4 = nn.BatchNorm2d(256)\n",
    "        \n",
    "        self.conv5 = nn.Conv2d(256, 512, 3, 1, 1)\n",
    "        self.batch5 = nn.BatchNorm2d(512)\n",
    "        \n",
    "        self.conv6 = nn.Conv2d(512, 512, 3, 1, 1)\n",
    "        self.batch6 = nn.BatchNorm2d(512)\n",
    "        \n",
    "        self.conv7 = nn.Conv2d(512, 512, 3, 1, 1)\n",
    "        self.batch7 = nn.BatchNorm2d(512)\n",
    "        \n",
    "        self.conv8 = nn.Conv2d(512, 512, 3, 1, 1)\n",
    "        self.batch8 = nn.BatchNorm2d(512)\n",
    "        \n",
    "        self.fc1 = nn.Linear( 512,4096) \n",
    "        self.fc2 = nn.Linear(4096,4096)\n",
    "        self.fc3 = nn.Linear(4096,  10)\n",
    "\n",
    "    def forward(self, x):\n",
    "        x = F.max_pool2d(F.relu(self.batch1(self.conv1(x))), (2, 2))\n",
    "        x = F.max_pool2d(F.relu(self.batch2(self.conv2(x))), (2, 2))\n",
    "        x = F.relu(self.batch3(self.conv3(x)))\n",
    "        x = F.max_pool2d(F.relu(self.batch4(self.conv4(x))), (2, 2))\n",
    "        x = F.relu(self.batch5(self.conv5(x)))\n",
    "        x = F.max_pool2d(F.relu(self.batch6(self.conv6(x))), (2, 2))\n",
    "        x = F.relu(self.batch7(self.conv7(x)))\n",
    "        x = F.max_pool2d(F.relu(self.batch8(self.conv8(x))), (2, 2))\n",
    "        x = x.view(-1, self.num_flat_features(x))\n",
    "        x = F.dropout(F.relu(self.fc1(x)),0.5)\n",
    "        x = F.dropout(F.relu(self.fc2(x)),0.5)\n",
    "        x = self.fc3(x)\n",
    "        return x\n",
    "\n",
    "    def num_flat_features(self, x):\n",
    "        size = x.size()[1:] \n",
    "        num_features = 1\n",
    "        for s in size:\n",
    "            num_features *= s\n",
    "        return num_features\n"
   ]
  },
  {
   "cell_type": "code",
   "execution_count": 30,
   "metadata": {},
   "outputs": [],
   "source": [
    "def test_acc_loss(data_set,net): \n",
    "        correct = 0\n",
    "        total = 0.0\n",
    "        loss = 0\n",
    "        count = 0.0\n",
    "        for i, data in enumerate(data_set, 1):\n",
    "            #loss\n",
    "            inputs,labels = data\n",
    "            outputs = net(inputs)\n",
    "            loss = criterion(outputs,labels)\n",
    "            loss = loss + loss.item()\n",
    "            count = count + 1\n",
    "            \n",
    "            #acc \n",
    "            total = total + labels.size(0)\n",
    "            _,predicted = torch.max(outputs.data,1)\n",
    "            correct = correct + (predicted == labels).sum().item()\n",
    "        return loss/count,correct / total\n",
    "        "
   ]
  },
  {
   "cell_type": "code",
   "execution_count": 31,
   "metadata": {},
   "outputs": [],
   "source": [
    "def train_model(net):\n",
    "    train_acc =[]\n",
    "    train_loss = []\n",
    "    test_loss = []\n",
    "    test_acc = []\n",
    "    for epoch in range(5):\n",
    "        for i, data in enumerate(train_loader, 1):\n",
    "            inputs,labels = data\n",
    "            optimizer.zero_grad()\n",
    "            outputs = net(inputs)\n",
    "            loss = criterion(outputs,labels)\n",
    "            loss.backward()\n",
    "            optimizer.step()\n",
    "            \n",
    "        #train\n",
    "        t_loss,t_acc = test_acc_loss(train_loader,net)\n",
    "        train_loss.append(t_loss)\n",
    "        train_acc.append(t_acc)\n",
    "        \n",
    "        #test \n",
    "        \n",
    "        te_loss,te_acc = test_acc_loss(test_loader,net)\n",
    "        test_loss.append(te_loss)\n",
    "        test_acc.append(te_acc)\n",
    "    \n",
    "    return train_acc,train_loss,test_acc,test_loss    "
   ]
  },
  {
   "cell_type": "code",
   "execution_count": 32,
   "metadata": {},
   "outputs": [],
   "source": [
    "vgg = VGG11()\n",
    "criterion = nn.CrossEntropyLoss()\n",
    "optimizer = optim.SGD(vgg.parameters(), 0.01, 0.9)\n",
    "def main():\n",
    "    train_acc,train_loss,test_acc,test_loss =  train_model(vgg)\n",
    "    epoch = range(1,len(train_acc) + 1)\n",
    "    plt.plot(epoch,test_acc)\n",
    "    plt.xlabel('the number of epochs')\n",
    "    plt.ylabel('test accuracy')\n",
    "    plt.title('test accuracy vs the number of epochs')\n",
    "    plt.show()\n",
    "    \n",
    "    plt.plot(epoch,train_acc)\n",
    "    plt.xlabel('the number of epochs')\n",
    "    plt.ylabel('trainning accuracy')\n",
    "    plt.title('trainning accuracy vs the number of epochs')\n",
    "    plt.show()\n",
    "    \n",
    "    plt.plot(epoch,test_loss)\n",
    "    plt.xlabel('the number of epochs')\n",
    "    plt.ylabel('test loss')\n",
    "    plt.title('test loss vs the number of epochs')\n",
    "    plt.show()\n",
    "    \n",
    "    plt.plot(epoch,train_loss)\n",
    "    plt.xlabel('the number of epochs')\n",
    "    plt.ylabel('test loss')\n",
    "    plt.title('training loss vs the number of epochs')\n",
    "    plt.show()\n",
    "    \n",
    "    "
   ]
  },
  {
   "cell_type": "code",
   "execution_count": 33,
   "metadata": {
    "scrolled": true
   },
   "outputs": [
    {
     "data": {
      "image/png": "[encoded data removed]",
      "text/plain": [
       "<Figure size 432x288 with 1 Axes>"
      ]
     },
     "metadata": {
      "needs_background": "light"
     },
     "output_type": "display_data"
    },
    {
     "data": {
      "image/png": "[encoded data removed]",
      "text/plain": [
       "<Figure size 432x288 with 1 Axes>"
      ]
     },
     "metadata": {
      "needs_background": "light"
     },
     "output_type": "display_data"
    },
    {
     "data": {
      "image/png": "[encoded data removed]",
      "text/plain": [
       "<Figure size 432x288 with 1 Axes>"
      ]
     },
     "metadata": {
      "needs_background": "light"
     },
     "output_type": "display_data"
    },
    {
     "data": {
      "image/png": "[encoded data removed]",
      "text/plain": [
       "<Figure size 432x288 with 1 Axes>"
      ]
     },
     "metadata": {
      "needs_background": "light"
     },
     "output_type": "display_data"
    }
   ],
   "source": [
    "main()"
   ]
  },
  {
   "cell_type": "code",
   "execution_count": 34,
   "metadata": {},
   "outputs": [],
   "source": [
    "def test_acc_flip(net):\n",
    "    transform_right_to_left = transforms.Compose([transforms.Resize((32,32)),\n",
    "                                              transforms.RandomHorizontalFlip(p=1),transforms.ToTensor()])\n",
    "    test_hor = torchvision.datasets.MNIST(root = './data_hor',\n",
    "                                       train=False,\n",
    "                                       transform=transform_right_to_left,\n",
    "                                       download= True)\n",
    "    test_hor = torch.utils.data.Subset(test_hor,range(0,test_size ))\n",
    "    test_hor_loader = torch.utils.data.DataLoader(test_hor, batch_size=64, shuffle=False)\n",
    "\n",
    "    transform_top_to_bot = transforms.Compose([transforms.Resize((32,32)),\n",
    "                                           transforms.RandomVerticalFlip(p=1),transforms.ToTensor()])\n",
    "\n",
    "    test_ver = torchvision.datasets.MNIST(root = './data_ver',\n",
    "                                       train=False,\n",
    "                                       transform=transform_top_to_bot,\n",
    "                                       download= True)\n",
    "    \n",
    "    test_ver = torch.utils.data.Subset(test_ver,range(0,test_size ))\n",
    "    test_ver_loader = torch.utils.data.DataLoader(test_ver, batch_size=64, shuffle=False)\n",
    "    hor_loss, hor_acc = test_acc_loss(test_hor_loader,net)\n",
    "    print \"           when flip type is left to right, we got test accuracy is: \" , hor_acc\n",
    "    ver_loss, ver_acc = test_acc_loss(test_ver_loader,net)\n",
    "    print \"           when flip type is top to bottom, we got test accuracy is: \" , ver_acc"
   ]
  },
  {
   "cell_type": "code",
   "execution_count": 35,
   "metadata": {},
   "outputs": [
    {
     "name": "stdout",
     "output_type": "stream",
     "text": [
      "E2.3.e :\n",
      "           when flip type is left to right, we got test accuracy is:  0.497833333333\n",
      "           when flip type is top to bottom, we got test accuracy is:  0.394666666667\n"
     ]
    }
   ],
   "source": [
    "test_acc_flip(vgg)"
   ]
  },
  {
   "cell_type": "code",
   "execution_count": null,
   "metadata": {},
   "outputs": [],
   "source": []
  },
  {
   "cell_type": "code",
   "execution_count": null,
   "metadata": {},
   "outputs": [],
   "source": []
  },
  {
   "cell_type": "code",
   "execution_count": 36,
   "metadata": {},
   "outputs": [],
   "source": [
    "def test_acc_gaussian(net):\n",
    "    var = [0.01,0.1,1]\n",
    "    for i in var:\n",
    "        transform_noise = transforms.Compose([transforms.Resize((32,32)),transforms.ToTensor(),\n",
    "                                              transforms.Lambda(lambda x : x + math.sqrt(i) * torch.randn_like(x))])\n",
    "        test_gau = torchvision.datasets.MNIST(root = './data_gau',\n",
    "                                              train=False,transform=transform_noise,download= True)\n",
    "        test_gau = torch.utils.data.Subset(test_gau,range(0,test_size ))\n",
    "        test_gau_loader = torch.utils.data.DataLoader(test_gau, batch_size=64, shuffle=False)\n",
    "        gau_loss, gau_acc = test_acc_loss(test_gau_loader,net)\n",
    "        print \"           when add Gaussian noise to test image with variance\", i, \", we got test accuracy is: \" , gau_acc\n",
    "    \n",
    "    "
   ]
  },
  {
   "cell_type": "code",
   "execution_count": 37,
   "metadata": {},
   "outputs": [
    {
     "name": "stdout",
     "output_type": "stream",
     "text": [
      "E2.3.f :\n",
      "           when add Gaussian noise to test image with variance 0.01 , we got test accuracy is:  0.971833333333\n",
      "           when add Gaussian noise to test image with variance 0.1 , we got test accuracy is:  0.931\n",
      "           when add Gaussian noise to test image with variance 1 , we got test accuracy is:  0.518\n"
     ]
    }
   ],
   "source": [
    "test_acc_gaussian(vgg)"
   ]
  },
  {
   "cell_type": "code",
   "execution_count": null,
   "metadata": {},
   "outputs": [],
   "source": []
  },
  {
   "cell_type": "code",
   "execution_count": 38,
   "metadata": {},
   "outputs": [],
   "source": [
    "transform_final = transforms.Compose([transforms.Resize((32,32)),\n",
    "                                      transforms.RandomHorizontalFlip(p=0.1),\n",
    "                                      transforms.RandomVerticalFlip(p=0.1),\n",
    "                                      transforms.ToTensor(),\n",
    "                                      transforms.Lambda(lambda x : x + math.sqrt(1) * torch.randn_like(x))])\n",
    "\n",
    "train_final = torchvision.datasets.MNIST(root = './data_final',\n",
    "                                       train=True,\n",
    "                                       transform=transform_final,\n",
    "                                       download= True)\n",
    "train_final = torch.utils.data.Subset(train_final,range(0,test_size ))\n",
    "train_final_loader = torch.utils.data.DataLoader(train_final, batch_size=64, shuffle=True)"
   ]
  },
  {
   "cell_type": "code",
   "execution_count": 39,
   "metadata": {},
   "outputs": [
    {
     "name": "stdout",
     "output_type": "stream",
     "text": [
      "           when flip type is left to right, we got test accuracy is:  0.671\n",
      "           when flip type is top to bottom, we got test accuracy is:  0.637333333333\n",
      "           when add Gaussian noise to test image with variance 0.01 , we got test accuracy is:  0.9305\n",
      "           when add Gaussian noise to test image with variance 0.1 , we got test accuracy is:  0.918\n",
      "           when add Gaussian noise to test image with variance 1 , we got test accuracy is:  0.765666666667\n"
     ]
    }
   ],
   "source": [
    "#retrain my model\n",
    "vgg_final = VGG11()\n",
    "criterion_final = nn.CrossEntropyLoss()\n",
    "optimizer_final = optim.SGD(vgg_final.parameters(), 0.01, 0.9)\n",
    "for epoch in range(5):\n",
    "    for i, data in enumerate(train_final_loader, 1):\n",
    "            inputs,labels = data\n",
    "            optimizer_final.zero_grad()\n",
    "            outputs = vgg_final(inputs)\n",
    "            loss = criterion_final(outputs,labels)\n",
    "            loss.backward()\n",
    "            optimizer_final.step()\n",
    "test_acc_flip(vgg_final)\n",
    "\n",
    "test_acc_gaussian(vgg_final)"
   ]
  },
  {
   "cell_type": "code",
   "execution_count": null,
   "metadata": {},
   "outputs": [],
   "source": []
  },
  {
   "cell_type": "code",
   "execution_count": null,
   "metadata": {},
   "outputs": [],
   "source": []
  },
  {
   "cell_type": "code",
   "execution_count": null,
   "metadata": {},
   "outputs": [],
   "source": []
  }
 ],
 "metadata": {
  "kernelspec": {
   "display_name": "Python 3",
   "language": "python",
   "name": "python3"
  },
  "language_info": {
   "codemirror_mode": {
    "name": "ipython",
    "version": 3
   },
   "file_extension": ".py",
   "mimetype": "text/x-python",
   "name": "python",
   "nbconvert_exporter": "python",
   "pygments_lexer": "ipython3",
   "version": "3.8.3"
  }
 },
 "nbformat": 4,
 "nbformat_minor": 2
}
